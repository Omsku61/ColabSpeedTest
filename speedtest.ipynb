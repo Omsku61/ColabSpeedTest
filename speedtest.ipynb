{
  "cells": [
    {
      "cell_type": "code",
      "execution_count": null,
      "metadata": {
        "colab": {
          "base_uri": "https://localhost:8080/"
        },
        "id": "K1vVKrjeHHRt",
        "outputId": "53e3fdf0-0c66-4bd7-f22a-dd88ac3d2286"
      },
      "outputs": [
        {
          "output_type": "stream",
          "name": "stdout",
          "text": [
            "Detected operating system as Ubuntu/bionic.\n",
            "Checking for curl...\n",
            "Detected curl...\n",
            "Checking for gpg...\n",
            "Detected gpg...\n",
            "Running apt-get update... done.\n",
            "Installing apt-transport-https... done.\n",
            "Installing /etc/apt/sources.list.d/ookla_speedtest-cli.list...done.\n",
            "Importing packagecloud gpg key... done.\n",
            "Running apt-get update... done.\n",
            "\n",
            "The repository is setup! You can now install packages.\n",
            "Reading package lists... Done\n",
            "Building dependency tree       \n",
            "Reading state information... Done\n",
            "The following packages were automatically installed and are no longer required:\n",
            "  libnvidia-common-460 nsight-compute-2020.2.0\n",
            "Use 'sudo apt autoremove' to remove them.\n",
            "The following NEW packages will be installed:\n",
            "  speedtest\n",
            "0 upgraded, 1 newly installed, 0 to remove and 50 not upgraded.\n",
            "Need to get 1,055 kB of archives.\n",
            "After this operation, 2,549 kB of additional disk space will be used.\n",
            "Get:1 https://packagecloud.io/ookla/speedtest-cli/ubuntu bionic/main amd64 speedtest amd64 1.1.1.28-1.c732eb82cf [1,055 kB]\n",
            "Fetched 1,055 kB in 1s (1,772 kB/s)\n",
            "debconf: unable to initialize frontend: Dialog\n",
            "debconf: (No usable dialog-like program is installed, so the dialog based frontend cannot be used. at /usr/share/perl5/Debconf/FrontEnd/Dialog.pm line 76, <> line 1.)\n",
            "debconf: falling back to frontend: Readline\n",
            "debconf: unable to initialize frontend: Readline\n",
            "debconf: (This frontend requires a controlling tty.)\n",
            "debconf: falling back to frontend: Teletype\n",
            "dpkg-preconfigure: unable to re-open stdin: \n",
            "Selecting previously unselected package speedtest.\n",
            "(Reading database ... 155207 files and directories currently installed.)\n",
            "Preparing to unpack .../speedtest_1.1.1.28-1.c732eb82cf_amd64.deb ...\n",
            "Unpacking speedtest (1.1.1.28-1.c732eb82cf) ...\n",
            "Setting up speedtest (1.1.1.28-1.c732eb82cf) ...\n",
            "Processing triggers for man-db (2.8.3-2ubuntu0.1) ...\n"
          ]
        }
      ],
      "source": [
        "!curl -s https://install.speedtest.net/app/cli/install.deb.sh | sudo bash\n",
        "!sudo apt install speedtest"
      ]
    },
    {
      "cell_type": "code",
      "execution_count": null,
      "metadata": {
        "colab": {
          "base_uri": "https://localhost:8080/"
        },
        "id": "7Ac5Nu0XHaqv",
        "outputId": "ef3b25db-9a6e-4029-dd4a-9960fdcb8a87"
      },
      "outputs": [
        {
          "output_type": "stream",
          "name": "stdout",
          "text": [
            "==============================================================================\n",
            "\n",
            "You may only use this Speedtest software and information generated\n",
            "from it for personal, non-commercial use, through a command line\n",
            "interface on a personal computer. Your use of this software is subject\n",
            "to the End User License Agreement, Terms of Use and Privacy Policy at\n",
            "these URLs:\n",
            "\n",
            "\thttps://www.speedtest.net/about/eula\n",
            "\thttps://www.speedtest.net/about/terms\n",
            "\thttps://www.speedtest.net/about/privacy\n",
            "\n",
            "==============================================================================\n",
            "\n",
            "Do you accept the license? [type YES to accept]: YES\n",
            "License acceptance recorded. Continuing.\n",
            "\n",
            "\n",
            "   Speedtest by Ookla\n",
            "\n",
            "     Server: Spirit Communications - Columbia, SC (id = 4265)\n",
            "        ISP: Google Cloud\n",
            "    Latency:    17.30 ms   (0.17 ms jitter)\n",
            "   Download:   913.45 Mbps (data used: 1.1 GB )                               \n",
            "     Upload:   492.39 Mbps (data used: 775.2 MB )                               \n",
            "Packet Loss:     0.0%\n",
            " Result URL: https://www.speedtest.net/result/c/1f99842a-fe29-425b-a8b1-fb4062bb47e9\n"
          ]
        }
      ],
      "source": [
        "!speedtest"
      ]
    }
  ],
  "metadata": {
    "colab": {
      "name": "speedtest.ipynb",
      "provenance": []
    },
    "kernelspec": {
      "display_name": "Python 3",
      "name": "python3"
    },
    "language_info": {
      "name": "python"
    }
  },
  "nbformat": 4,
  "nbformat_minor": 0
}